{
  "cells": [
    {
      "cell_type": "markdown",
      "metadata": {
        "id": "view-in-github",
        "colab_type": "text"
      },
      "source": [
        "<a href=\"https://colab.research.google.com/github/Chao-Meng/Python-import-excelData/blob/main/GoodBelly_.ipynb\" target=\"_parent\"><img src=\"https://colab.research.google.com/assets/colab-badge.svg\" alt=\"Open In Colab\"/></a>"
      ]
    },
    {
      "cell_type": "code",
      "execution_count": null,
      "id": "f4d9c9eb",
      "metadata": {
        "id": "f4d9c9eb"
      },
      "outputs": [],
      "source": [
        "import pandas as pd\n",
        "import numpy as np"
      ]
    },
    {
      "cell_type": "code",
      "execution_count": null,
      "id": "beb8389f",
      "metadata": {
        "id": "beb8389f",
        "outputId": "1ce79a1a-c8c3-4394-b5e5-154b20e6d856",
        "colab": {
          "base_uri": "https://localhost:8080/",
          "height": 414
        }
      },
      "outputs": [
        {
          "output_type": "execute_result",
          "data": {
            "text/plain": [
              "        Date Region                    Store  Units Sold  \\\n",
              "0 2010-05-04     FL  Biscayne (aka Aventura)  150.702088   \n",
              "1 2010-05-11     FL  Biscayne (aka Aventura)  197.403797   \n",
              "2 2010-05-18     FL  Biscayne (aka Aventura)  235.106172   \n",
              "3 2010-05-25     FL  Biscayne (aka Aventura)  226.692427   \n",
              "4 2010-06-01     FL  Biscayne (aka Aventura)  257.688151   \n",
              "\n",
              "   Average Retail Price  Sales Rep  Endcap  Demo  Demo1-3  Demo4-5  Natural  \\\n",
              "0              4.390000          0       0     0        0        0        1   \n",
              "1              3.997692          0       0     0        0        0        1   \n",
              "2              3.809231          0       0     0        0        0        1   \n",
              "3              3.835000          0       0     0        0        0        1   \n",
              "4              3.902500          0       0     0        0        0        1   \n",
              "\n",
              "   Fitness  \n",
              "0        0  \n",
              "1        0  \n",
              "2        0  \n",
              "3        0  \n",
              "4        0  "
            ],
            "text/html": [
              "\n",
              "  <div id=\"df-0dff1188-95c6-4e97-a7d8-ab808eb7dac3\" class=\"colab-df-container\">\n",
              "    <div>\n",
              "<style scoped>\n",
              "    .dataframe tbody tr th:only-of-type {\n",
              "        vertical-align: middle;\n",
              "    }\n",
              "\n",
              "    .dataframe tbody tr th {\n",
              "        vertical-align: top;\n",
              "    }\n",
              "\n",
              "    .dataframe thead th {\n",
              "        text-align: right;\n",
              "    }\n",
              "</style>\n",
              "<table border=\"1\" class=\"dataframe\">\n",
              "  <thead>\n",
              "    <tr style=\"text-align: right;\">\n",
              "      <th></th>\n",
              "      <th>Date</th>\n",
              "      <th>Region</th>\n",
              "      <th>Store</th>\n",
              "      <th>Units Sold</th>\n",
              "      <th>Average Retail Price</th>\n",
              "      <th>Sales Rep</th>\n",
              "      <th>Endcap</th>\n",
              "      <th>Demo</th>\n",
              "      <th>Demo1-3</th>\n",
              "      <th>Demo4-5</th>\n",
              "      <th>Natural</th>\n",
              "      <th>Fitness</th>\n",
              "    </tr>\n",
              "  </thead>\n",
              "  <tbody>\n",
              "    <tr>\n",
              "      <th>0</th>\n",
              "      <td>2010-05-04</td>\n",
              "      <td>FL</td>\n",
              "      <td>Biscayne (aka Aventura)</td>\n",
              "      <td>150.702088</td>\n",
              "      <td>4.390000</td>\n",
              "      <td>0</td>\n",
              "      <td>0</td>\n",
              "      <td>0</td>\n",
              "      <td>0</td>\n",
              "      <td>0</td>\n",
              "      <td>1</td>\n",
              "      <td>0</td>\n",
              "    </tr>\n",
              "    <tr>\n",
              "      <th>1</th>\n",
              "      <td>2010-05-11</td>\n",
              "      <td>FL</td>\n",
              "      <td>Biscayne (aka Aventura)</td>\n",
              "      <td>197.403797</td>\n",
              "      <td>3.997692</td>\n",
              "      <td>0</td>\n",
              "      <td>0</td>\n",
              "      <td>0</td>\n",
              "      <td>0</td>\n",
              "      <td>0</td>\n",
              "      <td>1</td>\n",
              "      <td>0</td>\n",
              "    </tr>\n",
              "    <tr>\n",
              "      <th>2</th>\n",
              "      <td>2010-05-18</td>\n",
              "      <td>FL</td>\n",
              "      <td>Biscayne (aka Aventura)</td>\n",
              "      <td>235.106172</td>\n",
              "      <td>3.809231</td>\n",
              "      <td>0</td>\n",
              "      <td>0</td>\n",
              "      <td>0</td>\n",
              "      <td>0</td>\n",
              "      <td>0</td>\n",
              "      <td>1</td>\n",
              "      <td>0</td>\n",
              "    </tr>\n",
              "    <tr>\n",
              "      <th>3</th>\n",
              "      <td>2010-05-25</td>\n",
              "      <td>FL</td>\n",
              "      <td>Biscayne (aka Aventura)</td>\n",
              "      <td>226.692427</td>\n",
              "      <td>3.835000</td>\n",
              "      <td>0</td>\n",
              "      <td>0</td>\n",
              "      <td>0</td>\n",
              "      <td>0</td>\n",
              "      <td>0</td>\n",
              "      <td>1</td>\n",
              "      <td>0</td>\n",
              "    </tr>\n",
              "    <tr>\n",
              "      <th>4</th>\n",
              "      <td>2010-06-01</td>\n",
              "      <td>FL</td>\n",
              "      <td>Biscayne (aka Aventura)</td>\n",
              "      <td>257.688151</td>\n",
              "      <td>3.902500</td>\n",
              "      <td>0</td>\n",
              "      <td>0</td>\n",
              "      <td>0</td>\n",
              "      <td>0</td>\n",
              "      <td>0</td>\n",
              "      <td>1</td>\n",
              "      <td>0</td>\n",
              "    </tr>\n",
              "  </tbody>\n",
              "</table>\n",
              "</div>\n",
              "    <div class=\"colab-df-buttons\">\n",
              "\n",
              "  <div class=\"colab-df-container\">\n",
              "    <button class=\"colab-df-convert\" onclick=\"convertToInteractive('df-0dff1188-95c6-4e97-a7d8-ab808eb7dac3')\"\n",
              "            title=\"Convert this dataframe to an interactive table.\"\n",
              "            style=\"display:none;\">\n",
              "\n",
              "  <svg xmlns=\"http://www.w3.org/2000/svg\" height=\"24px\" viewBox=\"0 -960 960 960\">\n",
              "    <path d=\"M120-120v-720h720v720H120Zm60-500h600v-160H180v160Zm220 220h160v-160H400v160Zm0 220h160v-160H400v160ZM180-400h160v-160H180v160Zm440 0h160v-160H620v160ZM180-180h160v-160H180v160Zm440 0h160v-160H620v160Z\"/>\n",
              "  </svg>\n",
              "    </button>\n",
              "\n",
              "  <style>\n",
              "    .colab-df-container {\n",
              "      display:flex;\n",
              "      gap: 12px;\n",
              "    }\n",
              "\n",
              "    .colab-df-convert {\n",
              "      background-color: #E8F0FE;\n",
              "      border: none;\n",
              "      border-radius: 50%;\n",
              "      cursor: pointer;\n",
              "      display: none;\n",
              "      fill: #1967D2;\n",
              "      height: 32px;\n",
              "      padding: 0 0 0 0;\n",
              "      width: 32px;\n",
              "    }\n",
              "\n",
              "    .colab-df-convert:hover {\n",
              "      background-color: #E2EBFA;\n",
              "      box-shadow: 0px 1px 2px rgba(60, 64, 67, 0.3), 0px 1px 3px 1px rgba(60, 64, 67, 0.15);\n",
              "      fill: #174EA6;\n",
              "    }\n",
              "\n",
              "    .colab-df-buttons div {\n",
              "      margin-bottom: 4px;\n",
              "    }\n",
              "\n",
              "    [theme=dark] .colab-df-convert {\n",
              "      background-color: #3B4455;\n",
              "      fill: #D2E3FC;\n",
              "    }\n",
              "\n",
              "    [theme=dark] .colab-df-convert:hover {\n",
              "      background-color: #434B5C;\n",
              "      box-shadow: 0px 1px 3px 1px rgba(0, 0, 0, 0.15);\n",
              "      filter: drop-shadow(0px 1px 2px rgba(0, 0, 0, 0.3));\n",
              "      fill: #FFFFFF;\n",
              "    }\n",
              "  </style>\n",
              "\n",
              "    <script>\n",
              "      const buttonEl =\n",
              "        document.querySelector('#df-0dff1188-95c6-4e97-a7d8-ab808eb7dac3 button.colab-df-convert');\n",
              "      buttonEl.style.display =\n",
              "        google.colab.kernel.accessAllowed ? 'block' : 'none';\n",
              "\n",
              "      async function convertToInteractive(key) {\n",
              "        const element = document.querySelector('#df-0dff1188-95c6-4e97-a7d8-ab808eb7dac3');\n",
              "        const dataTable =\n",
              "          await google.colab.kernel.invokeFunction('convertToInteractive',\n",
              "                                                    [key], {});\n",
              "        if (!dataTable) return;\n",
              "\n",
              "        const docLinkHtml = 'Like what you see? Visit the ' +\n",
              "          '<a target=\"_blank\" href=https://colab.research.google.com/notebooks/data_table.ipynb>data table notebook</a>'\n",
              "          + ' to learn more about interactive tables.';\n",
              "        element.innerHTML = '';\n",
              "        dataTable['output_type'] = 'display_data';\n",
              "        await google.colab.output.renderOutput(dataTable, element);\n",
              "        const docLink = document.createElement('div');\n",
              "        docLink.innerHTML = docLinkHtml;\n",
              "        element.appendChild(docLink);\n",
              "      }\n",
              "    </script>\n",
              "  </div>\n",
              "\n",
              "\n",
              "<div id=\"df-d8a266a7-384b-40f7-b8dd-07e87c607f5f\">\n",
              "  <button class=\"colab-df-quickchart\" onclick=\"quickchart('df-d8a266a7-384b-40f7-b8dd-07e87c607f5f')\"\n",
              "            title=\"Suggest charts\"\n",
              "            style=\"display:none;\">\n",
              "\n",
              "<svg xmlns=\"http://www.w3.org/2000/svg\" height=\"24px\"viewBox=\"0 0 24 24\"\n",
              "     width=\"24px\">\n",
              "    <g>\n",
              "        <path d=\"M19 3H5c-1.1 0-2 .9-2 2v14c0 1.1.9 2 2 2h14c1.1 0 2-.9 2-2V5c0-1.1-.9-2-2-2zM9 17H7v-7h2v7zm4 0h-2V7h2v10zm4 0h-2v-4h2v4z\"/>\n",
              "    </g>\n",
              "</svg>\n",
              "  </button>\n",
              "\n",
              "<style>\n",
              "  .colab-df-quickchart {\n",
              "      --bg-color: #E8F0FE;\n",
              "      --fill-color: #1967D2;\n",
              "      --hover-bg-color: #E2EBFA;\n",
              "      --hover-fill-color: #174EA6;\n",
              "      --disabled-fill-color: #AAA;\n",
              "      --disabled-bg-color: #DDD;\n",
              "  }\n",
              "\n",
              "  [theme=dark] .colab-df-quickchart {\n",
              "      --bg-color: #3B4455;\n",
              "      --fill-color: #D2E3FC;\n",
              "      --hover-bg-color: #434B5C;\n",
              "      --hover-fill-color: #FFFFFF;\n",
              "      --disabled-bg-color: #3B4455;\n",
              "      --disabled-fill-color: #666;\n",
              "  }\n",
              "\n",
              "  .colab-df-quickchart {\n",
              "    background-color: var(--bg-color);\n",
              "    border: none;\n",
              "    border-radius: 50%;\n",
              "    cursor: pointer;\n",
              "    display: none;\n",
              "    fill: var(--fill-color);\n",
              "    height: 32px;\n",
              "    padding: 0;\n",
              "    width: 32px;\n",
              "  }\n",
              "\n",
              "  .colab-df-quickchart:hover {\n",
              "    background-color: var(--hover-bg-color);\n",
              "    box-shadow: 0 1px 2px rgba(60, 64, 67, 0.3), 0 1px 3px 1px rgba(60, 64, 67, 0.15);\n",
              "    fill: var(--button-hover-fill-color);\n",
              "  }\n",
              "\n",
              "  .colab-df-quickchart-complete:disabled,\n",
              "  .colab-df-quickchart-complete:disabled:hover {\n",
              "    background-color: var(--disabled-bg-color);\n",
              "    fill: var(--disabled-fill-color);\n",
              "    box-shadow: none;\n",
              "  }\n",
              "\n",
              "  .colab-df-spinner {\n",
              "    border: 2px solid var(--fill-color);\n",
              "    border-color: transparent;\n",
              "    border-bottom-color: var(--fill-color);\n",
              "    animation:\n",
              "      spin 1s steps(1) infinite;\n",
              "  }\n",
              "\n",
              "  @keyframes spin {\n",
              "    0% {\n",
              "      border-color: transparent;\n",
              "      border-bottom-color: var(--fill-color);\n",
              "      border-left-color: var(--fill-color);\n",
              "    }\n",
              "    20% {\n",
              "      border-color: transparent;\n",
              "      border-left-color: var(--fill-color);\n",
              "      border-top-color: var(--fill-color);\n",
              "    }\n",
              "    30% {\n",
              "      border-color: transparent;\n",
              "      border-left-color: var(--fill-color);\n",
              "      border-top-color: var(--fill-color);\n",
              "      border-right-color: var(--fill-color);\n",
              "    }\n",
              "    40% {\n",
              "      border-color: transparent;\n",
              "      border-right-color: var(--fill-color);\n",
              "      border-top-color: var(--fill-color);\n",
              "    }\n",
              "    60% {\n",
              "      border-color: transparent;\n",
              "      border-right-color: var(--fill-color);\n",
              "    }\n",
              "    80% {\n",
              "      border-color: transparent;\n",
              "      border-right-color: var(--fill-color);\n",
              "      border-bottom-color: var(--fill-color);\n",
              "    }\n",
              "    90% {\n",
              "      border-color: transparent;\n",
              "      border-bottom-color: var(--fill-color);\n",
              "    }\n",
              "  }\n",
              "</style>\n",
              "\n",
              "  <script>\n",
              "    async function quickchart(key) {\n",
              "      const quickchartButtonEl =\n",
              "        document.querySelector('#' + key + ' button');\n",
              "      quickchartButtonEl.disabled = true;  // To prevent multiple clicks.\n",
              "      quickchartButtonEl.classList.add('colab-df-spinner');\n",
              "      try {\n",
              "        const charts = await google.colab.kernel.invokeFunction(\n",
              "            'suggestCharts', [key], {});\n",
              "      } catch (error) {\n",
              "        console.error('Error during call to suggestCharts:', error);\n",
              "      }\n",
              "      quickchartButtonEl.classList.remove('colab-df-spinner');\n",
              "      quickchartButtonEl.classList.add('colab-df-quickchart-complete');\n",
              "    }\n",
              "    (() => {\n",
              "      let quickchartButtonEl =\n",
              "        document.querySelector('#df-d8a266a7-384b-40f7-b8dd-07e87c607f5f button');\n",
              "      quickchartButtonEl.style.display =\n",
              "        google.colab.kernel.accessAllowed ? 'block' : 'none';\n",
              "    })();\n",
              "  </script>\n",
              "</div>\n",
              "\n",
              "    </div>\n",
              "  </div>\n"
            ],
            "application/vnd.google.colaboratory.intrinsic+json": {
              "type": "dataframe",
              "variable_name": "df",
              "summary": "{\n  \"name\": \"df\",\n  \"rows\": 1386,\n  \"fields\": [\n    {\n      \"column\": \"Date\",\n      \"properties\": {\n        \"dtype\": \"date\",\n        \"min\": \"2010-05-04 00:00:00\",\n        \"max\": \"2010-07-13 00:00:00\",\n        \"num_unique_values\": 11,\n        \"samples\": [\n          \"2010-06-08 00:00:00\",\n          \"2010-05-04 00:00:00\",\n          \"2010-07-06 00:00:00\"\n        ],\n        \"semantic_type\": \"\",\n        \"description\": \"\"\n      }\n    },\n    {\n      \"column\": \"Region\",\n      \"properties\": {\n        \"dtype\": \"category\",\n        \"num_unique_values\": 10,\n        \"samples\": [\n          \"SP\",\n          \"MA\",\n          \"PN\"\n        ],\n        \"semantic_type\": \"\",\n        \"description\": \"\"\n      }\n    },\n    {\n      \"column\": \"Store\",\n      \"properties\": {\n        \"dtype\": \"category\",\n        \"num_unique_values\": 126,\n        \"samples\": [\n          \"Columbus Circle\",\n          \"Old Town\",\n          \"Thousand Oaks\"\n        ],\n        \"semantic_type\": \"\",\n        \"description\": \"\"\n      }\n    },\n    {\n      \"column\": \"Units Sold\",\n      \"properties\": {\n        \"dtype\": \"number\",\n        \"std\": 110.99873114303861,\n        \"min\": 47.559851899867965,\n        \"max\": 1041.2002563709802,\n        \"num_unique_values\": 1386,\n        \"samples\": [\n          312.5972709867086,\n          249.27424817531522,\n          331.33111705025635\n        ],\n        \"semantic_type\": \"\",\n        \"description\": \"\"\n      }\n    },\n    {\n      \"column\": \"Average Retail Price\",\n      \"properties\": {\n        \"dtype\": \"number\",\n        \"std\": 0.46382836785382203,\n        \"min\": 2.889285714,\n        \"max\": 6.251538462,\n        \"num_unique_values\": 582,\n        \"samples\": [\n          3.906666667,\n          4.9275,\n          4.301111111\n        ],\n        \"semantic_type\": \"\",\n        \"description\": \"\"\n      }\n    },\n    {\n      \"column\": \"Sales Rep\",\n      \"properties\": {\n        \"dtype\": \"number\",\n        \"std\": 0,\n        \"min\": 0,\n        \"max\": 1,\n        \"num_unique_values\": 2,\n        \"samples\": [\n          1,\n          0\n        ],\n        \"semantic_type\": \"\",\n        \"description\": \"\"\n      }\n    },\n    {\n      \"column\": \"Endcap\",\n      \"properties\": {\n        \"dtype\": \"number\",\n        \"std\": 0,\n        \"min\": 0,\n        \"max\": 1,\n        \"num_unique_values\": 2,\n        \"samples\": [\n          1,\n          0\n        ],\n        \"semantic_type\": \"\",\n        \"description\": \"\"\n      }\n    },\n    {\n      \"column\": \"Demo\",\n      \"properties\": {\n        \"dtype\": \"number\",\n        \"std\": 0,\n        \"min\": 0,\n        \"max\": 1,\n        \"num_unique_values\": 2,\n        \"samples\": [\n          1,\n          0\n        ],\n        \"semantic_type\": \"\",\n        \"description\": \"\"\n      }\n    },\n    {\n      \"column\": \"Demo1-3\",\n      \"properties\": {\n        \"dtype\": \"number\",\n        \"std\": 0,\n        \"min\": 0,\n        \"max\": 1,\n        \"num_unique_values\": 2,\n        \"samples\": [\n          1,\n          0\n        ],\n        \"semantic_type\": \"\",\n        \"description\": \"\"\n      }\n    },\n    {\n      \"column\": \"Demo4-5\",\n      \"properties\": {\n        \"dtype\": \"number\",\n        \"std\": 0,\n        \"min\": 0,\n        \"max\": 1,\n        \"num_unique_values\": 2,\n        \"samples\": [\n          1,\n          0\n        ],\n        \"semantic_type\": \"\",\n        \"description\": \"\"\n      }\n    },\n    {\n      \"column\": \"Natural\",\n      \"properties\": {\n        \"dtype\": \"number\",\n        \"std\": 0,\n        \"min\": 0,\n        \"max\": 4,\n        \"num_unique_values\": 5,\n        \"samples\": [\n          4,\n          3\n        ],\n        \"semantic_type\": \"\",\n        \"description\": \"\"\n      }\n    },\n    {\n      \"column\": \"Fitness\",\n      \"properties\": {\n        \"dtype\": \"number\",\n        \"std\": 1,\n        \"min\": 0,\n        \"max\": 5,\n        \"num_unique_values\": 6,\n        \"samples\": [\n          0,\n          4\n        ],\n        \"semantic_type\": \"\",\n        \"description\": \"\"\n      }\n    }\n  ]\n}"
            }
          },
          "metadata": {},
          "execution_count": 30
        }
      ],
      "source": [
        "path='/content/GoodBelly-DataSet.xlsx'\n",
        "df=pd.read_excel(path,sheet_name='Real Data')\n",
        "df.head()"
      ]
    },
    {
      "cell_type": "code",
      "execution_count": null,
      "id": "12123e22",
      "metadata": {
        "id": "12123e22",
        "colab": {
          "base_uri": "https://localhost:8080/"
        },
        "outputId": "be8ad7e4-2de3-4ea8-be5e-cd0217669259"
      },
      "outputs": [
        {
          "output_type": "stream",
          "name": "stdout",
          "text": [
            "               Explanation of GoodBelly Sales Spreadsheet  \\\n",
            "count                                                  11   \n",
            "unique                                                 11   \n",
            "top     The data came from 126 Whole Foods stores over...   \n",
            "freq                                                    1   \n",
            "\n",
            "                                               Unnamed: 1  \n",
            "count                                                   9  \n",
            "unique                                                  9  \n",
            "top     Weekly Sales (Volume): The number of units sol...  \n",
            "freq                                                    1  \n"
          ]
        }
      ],
      "source": [
        "#Q1 - Give summary of numeric type of columns in dataset?\n",
        "summary = df.describe()\n",
        "print(summary)\n"
      ]
    },
    {
      "cell_type": "code",
      "execution_count": null,
      "id": "13283b1d",
      "metadata": {
        "id": "13283b1d",
        "colab": {
          "base_uri": "https://localhost:8080/"
        },
        "outputId": "51be1bc2-757a-40ca-e7c5-67b1b78e80be"
      },
      "outputs": [
        {
          "output_type": "stream",
          "name": "stdout",
          "text": [
            "Date                    22 days 03:27:15.853934319\n",
            "Units Sold                              110.998731\n",
            "Average Retail Price                      0.463828\n",
            "Sales Rep                                 0.497695\n",
            "Endcap                                    0.191843\n",
            "Demo                                      0.234661\n",
            "Demo1-3                                   0.363522\n",
            "Demo4-5                                   0.264705\n",
            "Natural                                   0.975092\n",
            "Fitness                                   1.592789\n",
            "dtype: object\n"
          ]
        },
        {
          "output_type": "stream",
          "name": "stderr",
          "text": [
            "<ipython-input-32-e928f3e21261>:6: FutureWarning: The default value of numeric_only in DataFrame.std is deprecated. In a future version, it will default to False. In addition, specifying 'numeric_only=None' is deprecated. Select only valid columns or specify the value of numeric_only to silence this warning.\n",
            "  std_devs = df.std()\n"
          ]
        }
      ],
      "source": [
        "#Q2 Calc STD of columns in dataset\n",
        "# print(df.dtypes)\n",
        "std_devs = df.std()\n",
        "print(std_devs)"
      ]
    },
    {
      "cell_type": "code",
      "execution_count": null,
      "id": "7c71300a",
      "metadata": {
        "id": "7c71300a",
        "colab": {
          "base_uri": "https://localhost:8080/"
        },
        "outputId": "8678eea5-078d-419b-faf3-6f669b30bc72"
      },
      "outputs": [
        {
          "output_type": "stream",
          "name": "stdout",
          "text": [
            "Units Sold              186.280727\n",
            "Average Retail Price      4.128036\n",
            "Sales Rep                 0.000000\n",
            "Endcap                    0.100000\n",
            "Demo                      0.000000\n",
            "Demo1-3                   0.000000\n",
            "Demo4-5                   0.040000\n",
            "Natural                   1.300000\n",
            "Fitness                   1.560000\n",
            "dtype: float64\n"
          ]
        }
      ],
      "source": [
        "#Q3 mean of first 50 records in dataset\n",
        "mean_first_50 = df.iloc[:50].mean(numeric_only=True)\n",
        "print(mean_first_50)\n"
      ]
    },
    {
      "cell_type": "code",
      "execution_count": null,
      "id": "6a5e7d11",
      "metadata": {
        "id": "6a5e7d11",
        "colab": {
          "base_uri": "https://localhost:8080/"
        },
        "outputId": "e7635b8e-aa9c-4abf-ca0e-a271723e0ad1"
      },
      "outputs": [
        {
          "output_type": "stream",
          "name": "stdout",
          "text": [
            "Column names: Index(['Date', 'Region', 'Store', 'Units Sold', 'Average Retail Price',\n",
            "       'Sales Rep', 'Endcap', 'Demo', 'Demo1-3', 'Demo4-5', 'Natural',\n",
            "       'Fitness'],\n",
            "      dtype='object')\n"
          ]
        }
      ],
      "source": [
        "#Q4 What are thecolumn names\n",
        "column_names = df.columns\n",
        "print(\"Column names:\", column_names)\n"
      ]
    },
    {
      "cell_type": "code",
      "execution_count": null,
      "id": "d34a7891",
      "metadata": {
        "id": "d34a7891",
        "colab": {
          "base_uri": "https://localhost:8080/"
        },
        "outputId": "9967fe3d-2c49-4363-9f59-44623966d366"
      },
      "outputs": [
        {
          "output_type": "stream",
          "name": "stdout",
          "text": [
            "Total number of elements in the dataset: 16632\n"
          ]
        }
      ],
      "source": [
        "#Q - Number of elements in dataset\n",
        "total_elements = df.size\n",
        "print(\"Total number of elements in the dataset:\", total_elements)\n"
      ]
    },
    {
      "cell_type": "code",
      "execution_count": null,
      "id": "0b111e99",
      "metadata": {
        "id": "0b111e99",
        "colab": {
          "base_uri": "https://localhost:8080/"
        },
        "outputId": "0f2e0e0a-0d95-4040-df65-7e12231b3d12"
      },
      "outputs": [
        {
          "output_type": "stream",
          "name": "stdout",
          "text": [
            "Number of records: 1386\n"
          ]
        }
      ],
      "source": [
        "#Q- No. of records this dataset has\n",
        "num_records = df.shape[0]\n",
        "print(\"Number of records:\", num_records)\n"
      ]
    },
    {
      "cell_type": "code",
      "execution_count": null,
      "id": "428747b0",
      "metadata": {
        "id": "428747b0",
        "colab": {
          "base_uri": "https://localhost:8080/"
        },
        "outputId": "ac9b29c1-4ace-4af6-afa4-1fbcb8a09d1a"
      },
      "outputs": [
        {
          "output_type": "stream",
          "name": "stdout",
          "text": [
            "Column types:\n",
            " Date                    datetime64[ns]\n",
            "Region                          object\n",
            "Store                           object\n",
            "Units Sold                     float64\n",
            "Average Retail Price           float64\n",
            "Sales Rep                        int64\n",
            "Endcap                           int64\n",
            "Demo                             int64\n",
            "Demo1-3                          int64\n",
            "Demo4-5                          int64\n",
            "Natural                          int64\n",
            "Fitness                          int64\n",
            "dtype: object\n"
          ]
        }
      ],
      "source": [
        "#Q type of column dataset has\n",
        "column_types = df.dtypes\n",
        "print(\"Column types:\\n\", column_types)\n"
      ]
    },
    {
      "cell_type": "code",
      "execution_count": null,
      "id": "21f7c0cd",
      "metadata": {
        "id": "21f7c0cd"
      },
      "outputs": [],
      "source": []
    }
  ],
  "metadata": {
    "kernelspec": {
      "display_name": "Python 3 (ipykernel)",
      "language": "python",
      "name": "python3"
    },
    "language_info": {
      "codemirror_mode": {
        "name": "ipython",
        "version": 3
      },
      "file_extension": ".py",
      "mimetype": "text/x-python",
      "name": "python",
      "nbconvert_exporter": "python",
      "pygments_lexer": "ipython3",
      "version": "3.9.7"
    },
    "colab": {
      "provenance": [],
      "include_colab_link": true
    }
  },
  "nbformat": 4,
  "nbformat_minor": 5
}